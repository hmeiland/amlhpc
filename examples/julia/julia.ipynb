{
  "cells": [
    {
      "cell_type": "code",
      "source": [
        "using Distributed, ClusterManagers\n",
        "em = ElasticManager(addr=:auto,port=0,printing_kwargs=(absolute_exename=false, same_project=false))"
      ],
      "outputs": [
        {
          "output_type": "execute_result",
          "execution_count": 64,
          "data": {
            "text/plain": "ElasticManager:\n  Active workers : []\n  Number of workers to be added  : 0\n  Terminated workers : []\n  Worker connect command : \n    julia -e 'using ClusterManagers; ClusterManagers.elastic_worker(\"iUqhIQf1sZpfFBm7\",\"10.0.0.4\",36249)'"
          },
          "metadata": {}
        }
      ],
      "execution_count": 64,
      "metadata": {
        "gather": {
          "logged": 1706530694172
        }
      }
    },
    {
      "cell_type": "markdown",
      "source": [
        "Now submit a job to spin up the workers:\n",
        "`sbatch -p d13 --array=1-4 --wrap=\"/usr/bin/julia -e 'using Pkg; Pkg.add(\\\"ClusterManagers\\\"); using ClusterManagers; ClusterManagers.elastic_worker(\\\"iUqhIQf1sZpfFBm7\\\",\\\"10.0.0.4\\\",36249)'\"`"
      ],
      "metadata": {
        "nteract": {
          "transient": {
            "deleting": false
          }
        }
      }
    },
    {
      "cell_type": "code",
      "source": [
        "em"
      ],
      "outputs": [
        {
          "output_type": "execute_result",
          "execution_count": 73,
          "data": {
            "text/plain": "ElasticManager:\n  Active workers : [ 13,14]\n  Number of workers to be added  : 0\n  Terminated workers : []\n  Worker connect command : \n    julia -e 'using ClusterManagers; ClusterManagers.elastic_worker(\"iUqhIQf1sZpfFBm7\",\"10.0.0.4\",36249)'"
          },
          "metadata": {}
        }
      ],
      "execution_count": 73,
      "metadata": {
        "jupyter": {
          "source_hidden": false,
          "outputs_hidden": false
        },
        "nteract": {
          "transient": {
            "deleting": false
          }
        },
        "gather": {
          "logged": 1706531596972
        }
      }
    },
    {
      "cell_type": "code",
      "source": [
        "pmap(x->run(`hostname`),workers());"
      ],
      "outputs": [
        {
          "output_type": "stream",
          "name": "stdout",
          "text": "      From worker 14:\t3a0a9fedaf594f36b61e6c5d076b1af2000001\n      From worker 13:\t3a0a9fedaf594f36b61e6c5d076b1af2000000\n"
        }
      ],
      "execution_count": 74,
      "metadata": {
        "jupyter": {
          "source_hidden": false,
          "outputs_hidden": false
        },
        "nteract": {
          "transient": {
            "deleting": false
          }
        },
        "gather": {
          "logged": 1706531608500
        }
      }
    },
    {
      "cell_type": "code",
      "source": [
        "rmprocs(workers())"
      ],
      "outputs": [
        {
          "output_type": "execute_result",
          "execution_count": 62,
          "data": {
            "text/plain": "Task (done) @0x00007f6c0f104c40"
          },
          "metadata": {}
        }
      ],
      "execution_count": 62,
      "metadata": {
        "jupyter": {
          "source_hidden": false,
          "outputs_hidden": false
        },
        "nteract": {
          "transient": {
            "deleting": false
          }
        },
        "gather": {
          "logged": 1706529498696
        }
      }
    }
  ],
  "metadata": {
    "kernelspec": {
      "name": "julia-1.4",
      "language": "julia",
      "display_name": "Julia 1.4.1"
    },
    "language_info": {
      "file_extension": ".jl",
      "name": "julia",
      "mimetype": "application/julia",
      "version": "1.4.1"
    },
    "microsoft": {
      "ms_spell_check": {
        "ms_spell_check_language": "en"
      },
      "host": {
        "AzureML": {
          "notebookHasBeenCompleted": true
        }
      }
    },
    "kernel_info": {
      "name": "julia-1.4"
    },
    "nteract": {
      "version": "nteract-front-end@1.0.0"
    }
  },
  "nbformat": 4,
  "nbformat_minor": 2
}