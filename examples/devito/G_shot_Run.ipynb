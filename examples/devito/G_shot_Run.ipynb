{
 "cells": [
  {
   "cell_type": "code",
   "execution_count": 1,
   "id": "9ead35dc",
   "metadata": {
    "gather": {
     "logged": 1700129072792
    }
   },
   "outputs": [
    {
     "name": "stdout",
     "output_type": "stream",
     "text": [
      "SHELL=/bin/bash\r\n",
      "MSI_SECRET=wKs6UrPJhONoAVvsPbhVw2S9rtHO00DV\r\n",
      "CI_LOCAL_UBUNTU_USER=azureuser\r\n",
      "DEFAULT_IDENTITY_CLIENT_ID=clientid\r\n",
      "PWD=/mnt/batch/tasks/shared/LS_root/mounts/clusters/gareth-hc44/code/Users/gaobrien/GeophysicsAML\r\n",
      "LOGNAME=azureuser\r\n",
      "JPY_SESSION_NAME=Users/gaobrien/GeophysicsAML/gsobrien_G_shot_Run.ipynb\r\n",
      "APPSETTING_WEBSITE_SITE_NAME=AMLComputeInstance\r\n",
      "HBI_WORKSPACE=false\r\n",
      "HOME=/home/azureuser\r\n",
      "MLFLOW_TRACKING_URI=azureml://westeurope.api.azureml.ms/mlflow/v1.0/subscriptions/f5a67d06-2d09-4090-91cc-e3298907a021/resourceGroups/hugo-ml/providers/Microsoft.MachineLearningServices/workspaces/hugo-eessi\r\n",
      "LANG=C.UTF-8\r\n",
      "PYDEVD_USE_FRAME_EVAL=NO\r\n",
      "CLICOLOR=1\r\n",
      "INVOCATION_ID=55a2fff4f8944c3382bbb1379e8c97bc\r\n",
      "ENABLE_MLFLOW_AUTOLOG=false\r\n",
      "SGX_AESM_ADDR=1\r\n",
      "JPY_PARENT_PID=4716\r\n",
      "OBO_ENDPOINT=http://127.0.0.1:46808/OBO/token\r\n",
      "TERM=xterm-color\r\n",
      "CI_NAME=gareth-hc44\r\n",
      "CI_WORKSPACE=hugo-eessi\r\n",
      "USER=azureuser\r\n",
      "GIT_PAGER=cat\r\n",
      "SHLVL=0\r\n",
      "PAGER=cat\r\n",
      "AML_CloudName=AzureCloud\r\n",
      "MPLBACKEND=module://matplotlib_inline.backend_inline\r\n",
      "MKL_THREADING_LAYER=GNU\r\n",
      "JOURNAL_STREAM=8:49913\r\n",
      "PATH=/anaconda/envs/azureml_py38/bin/:/usr/local/sbin:/usr/local/bin:/usr/sbin:/usr/bin:/sbin:/bin:/usr/games:/usr/local/games:/snap/bin\r\n",
      "MSI_ENDPOINT=http://127.0.0.1:46808/MSI/auth\r\n",
      "CI_RESOURCE_GROUP=hugo-ml\r\n",
      "_=/usr/bin/env\r\n"
     ]
    }
   ],
   "source": [
    "!export MSI_SECRET=9v8xXHPAVo3Ra7XFU7dogUTtoVZ3cAdZ\n",
    "!export MSI_ENDPOINT=http://127.0.0.1:46808/MSI/auth\n",
    "!env"
   ]
  },
  {
   "cell_type": "code",
   "execution_count": 2,
   "id": "273276e1",
   "metadata": {
    "gather": {
     "logged": 1700823562570
    }
   },
   "outputs": [
    {
     "name": "stdout",
     "output_type": "stream",
     "text": [
      "<azure.identity._credentials.default.DefaultAzureCredential object at 0x7fcf92b62170>\n"
     ]
    }
   ],
   "source": [
    "from azure.ai.ml import command, MpiDistribution, Input\n",
    "from azure.ai.ml.entities import AmlCompute\n",
    "from azure.ai.ml import MLClient\n",
    "from azure.identity import DefaultAzureCredential\n",
    "from azureml.core import Workspace\n",
    "\n",
    "# authenticate\n",
    "# authentication package\n",
    "from azure.identity import DefaultAzureCredential, InteractiveBrowserCredential\n",
    "\n",
    "credential = DefaultAzureCredential()\n",
    "print(credential)"
   ]
  },
  {
   "cell_type": "code",
   "execution_count": 3,
   "id": "5ae6bf20",
   "metadata": {
    "gather": {
     "logged": 1700129123823
    }
   },
   "outputs": [
    {
     "name": "stdout",
     "output_type": "stream",
     "text": [
      "MLClient(credential=<azure.identity._credentials.default.DefaultAzureCredential object at 0x7fcf92b62170>,\n",
      "         subscription_id=f5a67d06-2d09-4090-91cc-e3298907a021,\n",
      "         resource_group_name=hugo-ml,\n",
      "         workspace_name=hugo-eessi)\n"
     ]
    }
   ],
   "source": [
    "# Get a handle to the workspace\n",
    "ml_client = MLClient(\n",
    "    credential=credential,\n",
    "    subscription_id=\"f5a67d06-2d09-4090-91cc-e3298907a021\",\n",
    "    resource_group_name=\"hugo-ml\",\n",
    "    workspace_name=\"hugo-eessi\",\n",
    ")\n",
    "\n",
    "print(ml_client)\n"
   ]
  },
  {
   "cell_type": "code",
   "execution_count": 4,
   "id": "4e90f781",
   "metadata": {
    "gather": {
     "logged": 1700129128679
    }
   },
   "outputs": [
    {
     "name": "stdout",
     "output_type": "stream",
     "text": [
      "You already have a cluster named hc44, we'll reuse it as is.\n"
     ]
    }
   ],
   "source": [
    "# load in the compute cluster to use\n",
    "cpu_compute_target=\"hc44\"\n",
    "\n",
    "cpu_cluster = ml_client.compute.get(cpu_compute_target)\n",
    "print(f\"You already have a cluster named {cpu_compute_target}, we'll reuse it as is.\")\n"
   ]
  },
  {
   "cell_type": "code",
   "execution_count": 5,
   "id": "bb8cb829",
   "metadata": {},
   "outputs": [
    {
     "name": "stderr",
     "output_type": "stream",
     "text": [
      "Class AutoDeleteSettingSchema: This is an experimental class, and may change at any time. Please see https://aka.ms/azuremlexperimental for more information.\n",
      "Class AutoDeleteConditionSchema: This is an experimental class, and may change at any time. Please see https://aka.ms/azuremlexperimental for more information.\n",
      "Class BaseAutoDeleteSettingSchema: This is an experimental class, and may change at any time. Please see https://aka.ms/azuremlexperimental for more information.\n",
      "Class IntellectualPropertySchema: This is an experimental class, and may change at any time. Please see https://aka.ms/azuremlexperimental for more information.\n",
      "Class ProtectionLevelSchema: This is an experimental class, and may change at any time. Please see https://aka.ms/azuremlexperimental for more information.\n",
      "Class BaseIntellectualPropertySchema: This is an experimental class, and may change at any time. Please see https://aka.ms/azuremlexperimental for more information.\n"
     ]
    },
    {
     "name": "stdout",
     "output_type": "stream",
     "text": [
      "1\n",
      "101\n",
      "201\n",
      "301\n",
      "401\n",
      "501\n",
      "601\n",
      "701\n",
      "801\n",
      "901\n",
      "1001\n",
      "1101\n",
      "1201\n",
      "1301\n",
      "1401\n",
      "1501\n",
      "1601\n",
      "1701\n",
      "1801\n",
      "1901\n",
      "2001\n",
      "2101\n",
      "2201\n",
      "2301\n",
      "2401\n",
      "2501\n",
      "2601\n",
      "2701\n",
      "2801\n",
      "2901\n",
      "3001\n",
      "3101\n",
      "3201\n",
      "3301\n",
      "3401\n",
      "3501\n",
      "3601\n",
      "3701\n",
      "3801\n",
      "3901\n",
      "4001\n",
      "4101\n",
      "4201\n",
      "4301\n",
      "4401\n",
      "4501\n",
      "4601\n",
      "4701\n",
      "4801\n",
      "4901\n",
      "5001\n",
      "5101\n",
      "5201\n",
      "5301\n",
      "5401\n",
      "5501\n",
      "5601\n",
      "5701\n",
      "5801\n",
      "5901\n",
      "6001\n",
      "6101\n",
      "6201\n",
      "6301\n",
      "6401\n",
      "6501\n",
      "6601\n",
      "6701\n",
      "6801\n",
      "6901\n",
      "7001\n",
      "7101\n",
      "7201\n",
      "7301\n",
      "7401\n",
      "7501\n",
      "7601\n",
      "7701\n",
      "7801\n",
      "7901\n",
      "8001\n",
      "8101\n",
      "8201\n",
      "8301\n",
      "8401\n",
      "8501\n",
      "8601\n",
      "8701\n",
      "8801\n",
      "8901\n",
      "9001\n",
      "9101\n",
      "9201\n",
      "9301\n",
      "9401\n",
      "9501\n",
      "9601\n",
      "9701\n",
      "9801\n",
      "9901\n",
      "finished job submission\n"
     ]
    }
   ],
   "source": [
    "\n",
    "start_shot=1;\n",
    "stop_shot=10000\n",
    "shot_inc=100\n",
    "\n",
    "for i in range(start_shot,stop_shot,shot_inc):\n",
    "    \n",
    "    jid=\" \" + str(i)\n",
    "    script = \"gsobrien_F_shot_generate.py \"\n",
    "  \n",
    "    # define the command\n",
    "    command_job = command(\n",
    "        code=\"/home/azureuser/cloudfiles/code/Users/gaobrien/GeophysicsAML/gsobrien_F_shot_generate.py\",\n",
    "        command=\"source /venv/bin/activate; python3 \" + script + jid,\n",
    "        #command=\"python3 --version\",\n",
    "        environment= \"docker-test1:4\",\n",
    "        instance_count=1,\n",
    "        #max_concurrency_per_instance=4,\n",
    "        #distribution=MpiDistribution(process_count_per_instance=2),\n",
    "        compute=\"hc44\",\n",
    "        display_name=\"shot_gen\" + jid,\n",
    "    )\n",
    "    returned_job = ml_client.jobs.create_or_update(command_job)\n",
    "    print(i)\n",
    "    \n",
    "print(\"finished job submission\")    \n"
   ]
  }
 ],
 "metadata": {
  "kernel_info": {
   "name": "python38-azureml"
  },
  "kernelspec": {
   "display_name": "Python 3.10 - SDK v2",
   "language": "python",
   "name": "python310-sdkv2"
  },
  "language_info": {
   "codemirror_mode": {
    "name": "ipython",
    "version": 3
   },
   "file_extension": ".py",
   "mimetype": "text/x-python",
   "name": "python",
   "nbconvert_exporter": "python",
   "pygments_lexer": "ipython3",
   "version": "3.10.11"
  },
  "microsoft": {
   "host": {
    "AzureML": {
     "notebookHasBeenCompleted": true
    }
   },
   "ms_spell_check": {
    "ms_spell_check_language": "en"
   }
  },
  "nteract": {
   "version": "nteract-front-end@1.0.0"
  }
 },
 "nbformat": 4,
 "nbformat_minor": 5
}
