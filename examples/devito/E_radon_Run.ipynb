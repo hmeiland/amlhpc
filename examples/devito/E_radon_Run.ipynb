{
 "cells": [
  {
   "cell_type": "code",
   "execution_count": 1,
   "id": "9ead35dc",
   "metadata": {
    "gather": {
     "logged": 1700129072792
    }
   },
   "outputs": [
    {
     "name": "stdout",
     "output_type": "stream",
     "text": [
      "SHELL=/bin/bash\r\n",
      "MSI_SECRET=jRa6OKvwoM4H4Ki1aZ3a8moaCvmnOJc2\r\n",
      "CI_LOCAL_UBUNTU_USER=azureuser\r\n",
      "DEFAULT_IDENTITY_CLIENT_ID=ce4d7d3c-a425-4dfb-921c-37f0cf5faa46\r\n",
      "PWD=/mnt/batch/tasks/shared/LS_root/mounts/clusters/gareth/code\r\n",
      "LOGNAME=azureuser\r\n",
      "JPY_SESSION_NAME=gsobrien_E_radon_Run.ipynb\r\n",
      "APPSETTING_WEBSITE_SITE_NAME=AMLComputeInstance\r\n",
      "HBI_WORKSPACE=false\r\n",
      "HOME=/home/azureuser\r\n",
      "MLFLOW_TRACKING_URI=azureml://westeurope.api.azureml.ms/mlflow/v1.0/subscriptions/f5a67d06-2d09-4090-91cc-e3298907a021/resourceGroups/hugo-ml/providers/Microsoft.MachineLearningServices/workspaces/hugo-eessi\r\n",
      "LANG=C.UTF-8\r\n",
      "PYDEVD_USE_FRAME_EVAL=NO\r\n",
      "CLICOLOR=1\r\n",
      "INVOCATION_ID=697188f345324b72af0682bc9e9679a5\r\n",
      "ENABLE_MLFLOW_AUTOLOG=false\r\n",
      "SGX_AESM_ADDR=1\r\n",
      "JPY_PARENT_PID=3737\r\n",
      "OBO_ENDPOINT=http://127.0.0.1:46808/OBO/token\r\n",
      "TERM=xterm-color\r\n",
      "CI_NAME=gareth\r\n",
      "CI_WORKSPACE=hugo-eessi\r\n",
      "USER=azureuser\r\n",
      "GIT_PAGER=cat\r\n",
      "SHLVL=0\r\n",
      "PAGER=cat\r\n",
      "AML_CloudName=AzureCloud\r\n",
      "MPLBACKEND=module://matplotlib_inline.backend_inline\r\n",
      "MKL_THREADING_LAYER=GNU\r\n",
      "JOURNAL_STREAM=8:67113\r\n",
      "PATH=/anaconda/envs/azureml_py38/bin/:/usr/local/sbin:/usr/local/bin:/usr/sbin:/usr/bin:/sbin:/bin:/usr/games:/usr/local/games:/snap/bin\r\n",
      "MSI_ENDPOINT=http://127.0.0.1:46808/MSI/auth\r\n",
      "CI_RESOURCE_GROUP=hugo-ml\r\n",
      "_=/usr/bin/env\r\n"
     ]
    }
   ],
   "source": [
    "!export MSI_SECRET=9v8xXHPAVo3Ra7XFU7dogUTtoVZ3cAdZ\n",
    "!export MSI_ENDPOINT=http://127.0.0.1:46808/MSI/auth\n",
    "!env"
   ]
  },
  {
   "cell_type": "code",
   "execution_count": 2,
   "id": "273276e1",
   "metadata": {
    "gather": {
     "logged": 1700823562570
    }
   },
   "outputs": [
    {
     "name": "stdout",
     "output_type": "stream",
     "text": [
      "<azure.identity._credentials.default.DefaultAzureCredential object at 0x7f8efed2a200>\n"
     ]
    }
   ],
   "source": [
    "from azure.ai.ml import command, MpiDistribution, Input\n",
    "from azure.ai.ml.entities import AmlCompute\n",
    "from azure.ai.ml import MLClient\n",
    "from azure.identity import DefaultAzureCredential\n",
    "from azureml.core import Workspace\n",
    "\n",
    "# authenticate\n",
    "# authentication package\n",
    "from azure.identity import DefaultAzureCredential, InteractiveBrowserCredential\n",
    "\n",
    "credential = DefaultAzureCredential()\n",
    "print(credential)"
   ]
  },
  {
   "cell_type": "code",
   "execution_count": 3,
   "id": "5ae6bf20",
   "metadata": {
    "gather": {
     "logged": 1700129123823
    }
   },
   "outputs": [
    {
     "name": "stdout",
     "output_type": "stream",
     "text": [
      "MLClient(credential=<azure.identity._credentials.default.DefaultAzureCredential object at 0x7f8efed2a200>,\n",
      "         subscription_id=f5a67d06-2d09-4090-91cc-e3298907a021,\n",
      "         resource_group_name=hugo-ml,\n",
      "         workspace_name=hugo-eessi)\n"
     ]
    }
   ],
   "source": [
    "# Get a handle to the workspace\n",
    "ml_client = MLClient(\n",
    "    credential=credential,\n",
    "    subscription_id=\"f5a67d06-2d09-4090-91cc-e3298907a021\",\n",
    "    resource_group_name=\"hugo-ml\",\n",
    "    workspace_name=\"hugo-eessi\",\n",
    ")\n",
    "\n",
    "print(ml_client)\n"
   ]
  },
  {
   "cell_type": "code",
   "execution_count": 4,
   "id": "4e90f781",
   "metadata": {
    "gather": {
     "logged": 1700129128679
    }
   },
   "outputs": [
    {
     "name": "stdout",
     "output_type": "stream",
     "text": [
      "You already have a cluster named hc44, we'll reuse it as is.\n"
     ]
    }
   ],
   "source": [
    "# load in the compute cluster to use\n",
    "cpu_compute_target=\"hc44\"\n",
    "\n",
    "cpu_cluster = ml_client.compute.get(cpu_compute_target)\n",
    "print(f\"You already have a cluster named {cpu_compute_target}, we'll reuse it as is.\")\n"
   ]
  },
  {
   "cell_type": "code",
   "execution_count": 6,
   "id": "bb8cb829",
   "metadata": {},
   "outputs": [
    {
     "name": "stderr",
     "output_type": "stream",
     "text": [
      "Your file exceeds 100 MB. If you experience low speeds, latency, or broken connections, we recommend using the AzCopyv10 tool for this file transfer.\n",
      "\n",
      "Example: azcopy copy '/home/azureuser/cloudfiles/code' 'https://hugoeessi2919381769.blob.core.windows.net/f29181ea-5322-4962-926c-6c1bcf5148f1-o6szy2l76hmkd8wsxte65b1lws/code' \n",
      "\n",
      "See https://docs.microsoft.com/azure/storage/common/storage-use-azcopy-v10 for more information.\n",
      "\u001b[32mUploading code (282.66 MBs): 100%|██████████| 282664673/282664673 [00:04<00:00, 63257203.79it/s]\n",
      "\u001b[39m\n",
      "\n"
     ]
    },
    {
     "name": "stdout",
     "output_type": "stream",
     "text": [
      "0\n",
      "1\n"
     ]
    },
    {
     "name": "stderr",
     "output_type": "stream",
     "text": [
      "Your file exceeds 100 MB. If you experience low speeds, latency, or broken connections, we recommend using the AzCopyv10 tool for this file transfer.\n",
      "\n",
      "Example: azcopy copy '/home/azureuser/cloudfiles/code' 'https://hugoeessi2919381769.blob.core.windows.net/f29181ea-5322-4962-926c-6c1bcf5148f1-lsdjmoaj9r4v9119nombzfclq0/code' \n",
      "\n",
      "See https://docs.microsoft.com/azure/storage/common/storage-use-azcopy-v10 for more information.\n",
      "\u001b[32mUploading code (282.9 MBs): 100%|██████████| 282905000/282905000 [00:04<00:00, 60696130.95it/s]\n",
      "\u001b[39m\n",
      "\n"
     ]
    },
    {
     "name": "stdout",
     "output_type": "stream",
     "text": [
      "2\n"
     ]
    },
    {
     "name": "stderr",
     "output_type": "stream",
     "text": [
      "Your file exceeds 100 MB. If you experience low speeds, latency, or broken connections, we recommend using the AzCopyv10 tool for this file transfer.\n",
      "\n",
      "Example: azcopy copy '/home/azureuser/cloudfiles/code' 'https://hugoeessi2919381769.blob.core.windows.net/f29181ea-5322-4962-926c-6c1bcf5148f1-voc187j63c1yu9hh2bf9480ydm/code' \n",
      "\n",
      "See https://docs.microsoft.com/azure/storage/common/storage-use-azcopy-v10 for more information.\n",
      "\u001b[32mUploading code (282.9 MBs): 100%|██████████| 282905000/282905000 [00:04<00:00, 67704861.11it/s] \n",
      "\u001b[39m\n",
      "\n"
     ]
    },
    {
     "name": "stdout",
     "output_type": "stream",
     "text": [
      "3\n",
      "finished job submission\n"
     ]
    }
   ],
   "source": [
    "\n",
    "nprocess=4;\n",
    "\n",
    "for i in range(0,nprocess):\n",
    "    \n",
    "    nproc=\" \" + str(nprocess)\n",
    "    jid=\" \" + str(i)\n",
    "    script = \"gsobrien_D_radon_IO.py \"\n",
    "  \n",
    "    # define the command\n",
    "    command_job = command(\n",
    "        code=\"/home/azureuser/cloudfiles/code/\",\n",
    "        command=\"source /venv/bin/activate; python3 \" + script + nproc + jid,\n",
    "        #command=\"python3 --version\",\n",
    "        environment= \"docker-test1:4\",\n",
    "        instance_count=1,\n",
    "        #max_concurrency_per_instance=4,\n",
    "        #distribution=MpiDistribution(process_count_per_instance=2),\n",
    "        compute=\"hc44\",\n",
    "        display_name=\"radon_file\" + jid,\n",
    "    )\n",
    "    returned_job = ml_client.jobs.create_or_update(command_job)\n",
    "    print(i)\n",
    "    \n",
    "print(\"finished job submission\")    \n"
   ]
  }
 ],
 "metadata": {
  "kernel_info": {
   "name": "python38-azureml"
  },
  "kernelspec": {
   "display_name": "Python 3.10 - SDK v2",
   "language": "python",
   "name": "python310-sdkv2"
  },
  "language_info": {
   "codemirror_mode": {
    "name": "ipython",
    "version": 3
   },
   "file_extension": ".py",
   "mimetype": "text/x-python",
   "name": "python",
   "nbconvert_exporter": "python",
   "pygments_lexer": "ipython3",
   "version": "3.10.11"
  },
  "microsoft": {
   "ms_spell_check": {
    "ms_spell_check_language": "en"
   }
  },
  "nteract": {
   "version": "nteract-front-end@1.0.0"
  }
 },
 "nbformat": 4,
 "nbformat_minor": 5
}
